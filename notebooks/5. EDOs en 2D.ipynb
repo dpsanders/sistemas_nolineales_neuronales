{
 "cells": [
  {
   "cell_type": "markdown",
   "metadata": {},
   "source": [
    "# Ecuaciones diferenciales ordinarias en 2D"
   ]
  },
  {
   "cell_type": "markdown",
   "metadata": {},
   "source": [
    "Habiendo entendido las ideas básicas sobre la dinámica de EDOs con una variable dependiente, procedemos al caso de mayor interés, dos variables:\n",
    "\n",
    "$$\\dot{x} = f(x, y, t)$$\n",
    "$$\\dot{y} = g(x, y, t),$$\n",
    "\n",
    "o sea\n",
    "\n",
    "$$\\dot{x(t)} = f(x(t), y(t), t)$$\n",
    "$$\\dot{y(t)} = g(x(t), y(t), t),$$\n",
    "\n",
    "o bien escrito de forma vectorial\n",
    "\n",
    "$$\\dot{\\mathbf{x}} = \\mathbf{f}(\\mathbf{x}, t).$$\n",
    "\n",
    "De hecho, nos interesaremos en los sistemas con parámetros de la forma\n",
    "\n",
    "$$\\dot{\\mathbf{x}} = \\mathbf{f}_\\mathbf{\\mu}(\\mathbf{x}, t).$$\n"
   ]
  },
  {
   "cell_type": "markdown",
   "metadata": {},
   "source": [
    "## Algunos ejemplos"
   ]
  },
  {
   "cell_type": "markdown",
   "metadata": {},
   "source": [
    "Empecemos con un par de ejemplos del tipo de comportamiento que se puede obtener con EDOs en 2D, que es mucho más rico que en 1D."
   ]
  },
  {
   "cell_type": "markdown",
   "metadata": {},
   "source": [
    "**[1]** Considera el sistema nolineal $\\dot{\\mathbf{x}} = \\mathbf{f}(\\mathbf{x})$ dada por\n",
    "\n",
    "\\begin{align}\n",
    "\\dot{x} &= x + \\exp(-y)\\\\\n",
    "\\dot{y} &= -y\n",
    "\\end{align}\n",
    "\n",
    "Dibuja el espacio fase (espacio de estados) $(x, y)$: dibuja el campo vectorial $\\mathbf{f}$ y distintas trayectorias calculadas numéricamente.\n",
    "\n",
    "¿Cuál comportamiento observas? ¿Qué ocurre \"en medio\" del espacio fase?"
   ]
  },
  {
   "cell_type": "markdown",
   "metadata": {},
   "source": [
    "[2] Un modelo de la competencia entre dos especies biológicas es el siguiente:\n",
    "\n",
    "\\begin{align}\n",
    "\\dot{x} &= x \\, (3 - x - 2y)\\\\\n",
    "\\dot{y} &= y \\, (2 - x - y).\n",
    "\\end{align}\n",
    "\n",
    "Dibuja el espacio fase (trayectorias y campo vectorial) para los valores biológicamente plausibles de las variables $x$ y $y$.\n",
    "\n",
    "¿Qué observas? ¿Qué tipos de comportamiento asintóticos hay?"
   ]
  },
  {
   "cell_type": "markdown",
   "metadata": {},
   "source": [
    "## Puntos fijos"
   ]
  },
  {
   "cell_type": "markdown",
   "metadata": {},
   "source": [
    "**[3]** (i) Define un **punto fijo** en un sistema $d$-dimensional $\\dot{\\mathbf{x}} = \\mathbf{f}(\\mathbf{x})$. ¿Qué ecuación satisface? ¿Qué tipo de ecuación es?\n",
    "\n",
    "(ii) Para resolver la ecuación que encontramos en (i), podemos utilizar el método de Newton para funciones en varias variables. Derívalo como sigue.\n",
    "\n",
    "Supón que $\\mathbf{x}^*$ es raíz de $\\mathbf{f}$, es decir que $\\mathbf{f}(\\mathbf{x}^*) = \\mathbf{0}$. Supón que empecemos desde un adivinanza inicial $\\mathbf{x}$. Sea $\\mathbf{x} + \\mathbf{\\delta x}$ raíz de $\\mathbf{f}$. Expande a primer orden para encontrar una ecuación aproximada para $\\delta x$.\n",
    "\n",
    "(iii) ¿Qué tipo de ecuación satisface $\\delta x$? ¿Cómo lo podemos resolver en Julia?\n",
    "\n",
    "(iv) Implementa el método de Newton para una función de varias variables."
   ]
  },
  {
   "cell_type": "code",
   "execution_count": null,
   "metadata": {},
   "outputs": [],
   "source": []
  },
  {
   "cell_type": "markdown",
   "metadata": {},
   "source": [
    "**[4]** (i) Aplica el método de Newton para encontrar un punto fijo del sistema de la pregnta [1]. \n",
    "\n",
    "(ii) Dibuja el punto fijo encima del espacio fase.\n",
    "\n",
    "(iii) ¿Se ve estable o inestable? ¿Por qué?"
   ]
  },
  {
   "cell_type": "code",
   "execution_count": null,
   "metadata": {},
   "outputs": [],
   "source": []
  },
  {
   "cell_type": "markdown",
   "metadata": {},
   "source": [
    "**[5]** Aplica el método de Newton para encontrar todos los puntos fijos del modelo de la pregunta [2]. ¿Son estables o inestables? Agrégalos al dibujo del espacio fase, distinguiendo entre los distintos tipos de puntos fijos."
   ]
  },
  {
   "cell_type": "code",
   "execution_count": null,
   "metadata": {},
   "outputs": [],
   "source": []
  },
  {
   "cell_type": "markdown",
   "metadata": {},
   "source": [
    "## Estabilidad lineal"
   ]
  },
  {
   "cell_type": "markdown",
   "metadata": {},
   "source": [
    "Tal como lo hicimos en el caso de sistemas con una variable, podemos llevar a cabo un análisis de estabilidad lineal.\n",
    "\n",
    "**[6]** Supón que $\\mathbf{x}^*$ es punto fijo del sistema $\\dot{\\mathbf{x}} = \\mathbf{f}(\\mathbf{x})$.\n",
    "\n",
    "(i) Toma una perturbación pequeña $\\delta \\mathbf{x}$ alrededor de $\\mathbf{x}^*$. Estudia la dinámica de $\\mathbf{x}(t) := \\mathbf{x}^* + \\delta \\mathbf{x}(t)$, y así encuentra qué tipo de ecuación satisface $\\mathbf{\\delta x}(t)$."
   ]
  },
  {
   "cell_type": "code",
   "execution_count": null,
   "metadata": {},
   "outputs": [],
   "source": []
  },
  {
   "cell_type": "markdown",
   "metadata": {},
   "source": [
    "**[7]** Considera una ecuación diferencial **lineal**,\n",
    "\n",
    "$$\\dot{\\mathbf{x}} = \\mathsf{A} \\cdot \\mathbf{x},$$\n",
    "\n",
    "con $\\mathbf{x}(t) \\in \\mathbb{R}^d$,\n",
    "\n",
    "donde $\\mathsf{A}$ es una matrix cuadrada de $d \\times d$.\n",
    "\n",
    "(i) ¿Qué tipo de soluciones esperas que tenga?\n",
    "\n",
    "(ii) Escribe la solución formal de la ecuación en términos del **exponencial de una matrix**. Esto se define de la misma forma que el exponencial de un número, solo con matriz como argumento.\n",
    "\n",
    "(iii) Supón que la matriz $\\mathsf{A}$ sea diagonalizable. ¿Cuáles son las coordenadas con respecto a las cuales la matriz de $\\mathsf{A}$ se vuelve diagonal? Cambia a este sistema de coordenadas. Ahora, ¿puedes resolver la ecuación?\n",
    "\n",
    "Así, escribe la solución de la ecuación."
   ]
  },
  {
   "cell_type": "code",
   "execution_count": null,
   "metadata": {},
   "outputs": [],
   "source": []
  },
  {
   "cell_type": "markdown",
   "metadata": {},
   "source": [
    "**[8]** (i) Suponiendo todavía que la matriz $\\mathsf{A}$ sea diagonalizable, aplica el resultado de [5] al análisis de [4] para dar un criterio para que un punto fijo sea estable o inestable.\n",
    "\n",
    "(ii) Resulta que este resultado siga siendo cierto, aun cuando $\\mathsf{A}$ no sea diagonalizable. Escribe una función en Julia para determinar si un punto fijo es estable o no.\n",
    "\n",
    "(iii) Aplica esto a los sistemas de las preguntas [1] y [2]."
   ]
  },
  {
   "cell_type": "code",
   "execution_count": null,
   "metadata": {},
   "outputs": [],
   "source": []
  },
  {
   "cell_type": "markdown",
   "metadata": {},
   "source": [
    "**[9]** Escribe un resumen de lo que hemos aprendido en este notebook y cómo se relaciona con los notebooks anteriores."
   ]
  },
  {
   "cell_type": "code",
   "execution_count": null,
   "metadata": {},
   "outputs": [],
   "source": []
  }
 ],
 "metadata": {
  "kernelspec": {
   "display_name": "Julia 0.6.2",
   "language": "julia",
   "name": "julia-0.6"
  },
  "language_info": {
   "file_extension": ".jl",
   "mimetype": "application/julia",
   "name": "julia",
   "version": "0.6.2"
  }
 },
 "nbformat": 4,
 "nbformat_minor": 2
}
