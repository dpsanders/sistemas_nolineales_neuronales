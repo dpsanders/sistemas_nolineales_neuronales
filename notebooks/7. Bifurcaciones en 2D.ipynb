{
 "cells": [
  {
   "cell_type": "markdown",
   "metadata": {},
   "source": [
    "# Bifurcaciones en 2D"
   ]
  },
  {
   "cell_type": "markdown",
   "metadata": {},
   "source": [
    "**[1]** Considera el sistema\n",
    "\n",
    "$$\\dot{x} = \\mu - x^2$$\n",
    "$$\\dot{y} = y$$\n",
    "\n",
    "Dibuja el espacio fase para $\\mu < 0$, $\\mu = 0$ y $\\mu > 0$.\n",
    "Encuentra los puntos fijos y su estabilidad, y las variedades invariantes de los puntos fijos. ¿Qué ocurre?"
   ]
  },
  {
   "cell_type": "markdown",
   "metadata": {},
   "source": [
    "**[2]** Considera el sistema\n",
    "\n",
    "$$\\dot{x} = \\mu x + y + \\sin x$$\n",
    "$$\\dot{y} = x - y$$\n",
    "\n",
    "Encuentra numéricamente una $\\mu_c$ para la cual hay una bifurcación. ¿Qué ocurre?"
   ]
  },
  {
   "cell_type": "markdown",
   "metadata": {},
   "source": [
    "**[3]** Considera el sistema escrito en *coordenadas polares*:\n",
    "\n",
    "$$\\dot{r} = \\mu r - r^3$$\n",
    "$$\\dot{\\theta} = \\omega + r^2$$\n",
    "\n",
    "(i) Dibuja el espacio fase para distintos valores de $\\mu$ cercanos a $0$. ¿Qué comportamiento observas?\n",
    "\n",
    "(ii) Haz un cambio de coordenadas a coordenadas Cartesianas.\n",
    "\n",
    "(iii) Así, haz un análisis de estabilidad lineal del punto fijo en el origin.\n",
    "\n",
    "(iv) Dibuja los eigenvalores de este punto fijo en función de $\\mu$. ¿Qué ocurre? \n",
    "\n",
    "Esto se llama una **bifurcación de Hopf**: nace un **ciclo límite**."
   ]
  },
  {
   "cell_type": "markdown",
   "metadata": {},
   "source": [
    "**[4]** Un modelo de una reacción química oscilante es\n",
    "\n",
    "$$\\dot{x} = a - x - \\frac{4 x y}{1 + x^2}$$\n",
    "\n",
    "$$\\dot{y} = b x \\left( 1 - \\frac{y}{1+x^2} \\right)$$"
   ]
  },
  {
   "cell_type": "markdown",
   "metadata": {},
   "source": [
    "Fija $a = 10$ y encuentra un valor de $b$ para la cual hay una bifurcación de Hopf."
   ]
  }
 ],
 "metadata": {
  "kernelspec": {
   "display_name": "Julia 0.6.2",
   "language": "julia",
   "name": "julia-0.6"
  },
  "language_info": {
   "file_extension": ".jl",
   "mimetype": "application/julia",
   "name": "julia",
   "version": "0.6.2"
  }
 },
 "nbformat": 4,
 "nbformat_minor": 2
}
