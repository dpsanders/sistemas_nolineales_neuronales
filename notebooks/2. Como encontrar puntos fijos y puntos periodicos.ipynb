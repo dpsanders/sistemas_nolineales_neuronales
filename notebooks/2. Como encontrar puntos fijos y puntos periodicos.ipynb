{
 "cells": [
  {
   "cell_type": "markdown",
   "metadata": {},
   "source": [
    "# Puntos fijos y puntos periódicos"
   ]
  },
  {
   "cell_type": "markdown",
   "metadata": {},
   "source": [
    "En este notebook, veremos cómo aplicar el método de Newton para encontrar puntos fijos y puntos periódicos de un sistema dinámico discreto\n",
    "$$x_{n+1} = f(x_n).$$"
   ]
  },
  {
   "cell_type": "markdown",
   "metadata": {},
   "source": [
    "## Puntos fijos y el método de Newton"
   ]
  },
  {
   "cell_type": "markdown",
   "metadata": {},
   "source": [
    "**[1]** Escribe de nuevo la ecuación para un punto fijo $x^*$ de un mapeo $f$.\n",
    "\n",
    "¿Qué tipo de ecuación es?"
   ]
  },
  {
   "cell_type": "markdown",
   "metadata": {},
   "source": [
    "Ecuaciones de este tipo se pueden resolver utilizando métodos numéricos, en particular el *método de Newton*. Este método encuentra *ceros* de una función $g$, es decir, valores $y$ en los cuales $g(y) = 0$.\n",
    "\n",
    "Para hacerlo, se aplica la recurrencia\n",
    "\n",
    "$$y_{n+1} = y_n - \\frac{g(y_n)}{g'(y_n)}.$$\n",
    "\n",
    "(i) Implementa el método de Newton para una función $g$ y su derivada $g'$ (dada a mano como una función aparte).\n",
    "\n",
    "(ii) ¿Cómo se puede escribir la ecuación para un punto fijo de tal forma que se pueda aplicar este método?\n",
    "\n",
    "(iii) Aplícalo para encontrar *puntos fijos* del mapeo logístico y demuestra gráficamente que concuerdan con los encontrados analíticamente.\n",
    "Intenta encontrar *todos* los puntos fijos para distintos valores de $\\mu$."
   ]
  },
  {
   "cell_type": "markdown",
   "metadata": {},
   "source": [
    "**[2]** Escribe una función que encuentre la estabilidad de un punto fijo.\n",
    "Dibuja los puntos fijos como función de $\\mu$: cuando sean estables, dibújalos con una línea continua, y cuando sean inestables con una línea punteada [`linestyle=:dash`]."
   ]
  },
  {
   "cell_type": "markdown",
   "metadata": {},
   "source": [
    "## Puntos periódicos"
   ]
  },
  {
   "cell_type": "markdown",
   "metadata": {},
   "source": [
    "En la pregunta [3] del notebook 1, encontramos que surgen *puntos periódicos*. Un *punto periódico de periodo $p$* es un valor $x_p$ tal que $x_p$ se regresa al mismo lugar cuando se aplican $p$ pasos de la dinámica."
   ]
  },
  {
   "cell_type": "markdown",
   "metadata": {},
   "source": [
    "**[3]** (i) Escribe una ecuación para un punto periódico de periodo $2$ del sistema dinámico descrito por la iteración del mapeo $f$.\n",
    "\n",
    "(ii) Escribe una ecuación para un punto periódico de periodo $p$ del sistema dinámico descrito por la iteración del mapeo $f$.\n",
    "\n",
    "(iii) Para aplicar el método de Newton para encontrar un punto periódico, necesitas calcular una cierta derivada. ¿Cómo se lleva a cabo esto?\n",
    "\n",
    "(iv) Aplica el método de Newton para encontrar todos los puntos periódicos de periodo $2$. ¿Reconoces algunos de ellos? ¿Por qué?\n",
    "\n",
    "(v) Encuentra su estabilidad y agrégalos al diagrama."
   ]
  },
  {
   "cell_type": "markdown",
   "metadata": {},
   "source": [
    "**[4]** \n",
    "Encuentra puntos de orden superior y su estabilidad, y agrégalos al diagrama."
   ]
  },
  {
   "cell_type": "markdown",
   "metadata": {},
   "source": [
    "### Diagrama de bifurcaciones"
   ]
  },
  {
   "cell_type": "markdown",
   "metadata": {},
   "source": [
    "**[5]** Dibuja el *diagrama de bifurcaciones* (o *diagrama de órbitas*): para cada $\\mu \\in [0,4]$ (en el eje $x$), itera unas condiciones iniciales y dibuja (en el eje $y$) los últimos iterados.\n",
    "\n",
    "Debería verse familiar hasta cierto valor de $\\mu$. ¿Cuál es?"
   ]
  },
  {
   "cell_type": "markdown",
   "metadata": {},
   "source": [
    "**[6]** Conforme se va aumentando $\\mu$, los puntos periódicos van perdiendo su estabilidad de la misma forma que en las preguntas [2] y [3].\n",
    "\n",
    "(i) Utiliza el método de bisección o de Newton para encontrar los valores de $\\mu^*_p$ en los cuales ocurren estas bifurcaciones.\n",
    "\n",
    "(ii) Calcula una aproximación a la *constante de Feigenbaum*, $\\delta$, que es la razón de las distancias consecutivas entre los valores de $\\mu^*_p$."
   ]
  },
  {
   "cell_type": "markdown",
   "metadata": {},
   "source": [
    "### Bibliografía"
   ]
  },
  {
   "cell_type": "markdown",
   "metadata": {},
   "source": [
    "**[7]** Después de hacer este los ejercicios de este notebook, lee el capítulo 10 de Strogatz."
   ]
  },
  {
   "cell_type": "markdown",
   "metadata": {},
   "source": [
    "### Resumen"
   ]
  },
  {
   "cell_type": "markdown",
   "metadata": {},
   "source": [
    "**[8]** Escribe un resumen breve de lo que hayas aprendido de este notebook."
   ]
  }
 ],
 "metadata": {
  "kernelspec": {
   "display_name": "Julia 0.6.2",
   "language": "julia",
   "name": "julia-0.6"
  },
  "language_info": {
   "file_extension": ".jl",
   "mimetype": "application/julia",
   "name": "julia",
   "version": "0.6.2"
  }
 },
 "nbformat": 4,
 "nbformat_minor": 2
}
