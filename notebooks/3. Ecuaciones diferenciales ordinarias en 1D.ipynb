{
 "cells": [
  {
   "cell_type": "markdown",
   "metadata": {},
   "source": [
    "# Ecuaciones diferenciales en una dimensión"
   ]
  },
  {
   "cell_type": "markdown",
   "metadata": {},
   "source": [
    "Recordemos que una ecuación diferencial general con una variable (\"en una dimensión\") se ve así:\n",
    "\n",
    "$$ \\dot{x} = f(x, t), $$\n",
    "\n",
    "o sea\n",
    "\n",
    "$$ \\dot{x}(t) = f(x(t), t) \\qquad \\text{para toda $t$}.$$\n",
    "\n",
    "La primera ecuación describe la igualdad de dos *funciones*, y la segunda de *dos números*."
   ]
  },
  {
   "cell_type": "markdown",
   "metadata": {},
   "source": [
    "En este curso, usaremos el paquete `DifferentialEquations.jl` para resolver ecuaciones diferenciales ordinarias:\n",
    "\n",
    "    Pkg.add(\"DifferentialEquations\")\n",
    "    \n",
    "Luego\n",
    "\n",
    "    Pkg.status(\"DifferentialEquations\")\n",
    "    \n",
    "debería indicar que estás utilizando la versión 4.0 o más alto. Esto es importante, ya que cambió la sintaxis del paquete en la versión 4.0"
   ]
  },
  {
   "cell_type": "markdown",
   "metadata": {},
   "source": [
    "**[1]** (i) Revisar la documentación del paquete.\n",
    "\n",
    "(ii) Utilízalo para integrar la ecuación logística, que modela la dinámica de crecimiento de una población en tiempo continuo:\n",
    "\n",
    "$$\\dot{x} = x \\, (1-x)$$\n",
    "\n",
    "Dibuja soluciones para distintas condiciones iniciales como función del tiempo, así como el campo vectorial correspondiente [con la función `quiver` de `Plots.jl`]. \n",
    "\n",
    "(iii) Encuentra visual- / gráficamente los **puntos fijos** y su estabilidad."
   ]
  },
  {
   "cell_type": "code",
   "execution_count": null,
   "metadata": {},
   "outputs": [],
   "source": []
  },
  {
   "cell_type": "markdown",
   "metadata": {},
   "source": [
    "**[2]** (i) ¿Qué ecuación satisface un punto fijo $x^*$ de una ecuación diferencial ordinaria en una variable que no dependa explícitamente del tiempo, es decir $\\dot{x} = f(x)$?\n",
    "\n",
    "(ii) Haz un análisis de estabilidad lineal: perturba $x^*$ con un $\\delta x_0$ y averigua cómo crece $\\delta x(t)$ como función del tiempo. ¿De qué depende?\n",
    "\n",
    "(iii) ¿Cómo puedes encontrar numéricamente los puntos fijos y su estabilidad?"
   ]
  },
  {
   "cell_type": "code",
   "execution_count": null,
   "metadata": {},
   "outputs": [],
   "source": []
  },
  {
   "cell_type": "markdown",
   "metadata": {},
   "source": [
    "## Ecuaciones con parámetros "
   ]
  },
  {
   "cell_type": "markdown",
   "metadata": {},
   "source": [
    "El interés en estos sistemas surge cuando hay parámetros:\n",
    "\n",
    "$$\\dot{x} = f_\\mu(x),$$\n",
    "\n",
    "ya que entonces pueden surgir bifurcaciones."
   ]
  },
  {
   "cell_type": "markdown",
   "metadata": {},
   "source": [
    "**[3]** Para las siguientes ecuaciones:\n",
    "\n",
    "(i) Investiga la dinámica resolviendo las ecuaciones numéricamente y encuentra el (los) valor(es) crítico(s) $\\mu_c$ en donde ocurran la(s) bifurcacion(es) (e.g. con `@manipulate`). Dibuja la dinámica como función del tiempo para distintas condiciones iniciales, en tres gráficas diferentes: $\\mu < \\mu_c$, $\\mu = \\mu_c$ y $\\mu > \\mu_c$.\n",
    "\n",
    "(ii) Encuentra numéricamente los puntos fijos y su estabilidad como función de $\\mu$. Dibuja el diagrama de bifuraciones (posición de las $x^*(\\mu)$ en función de $\\mu$), dibujando puntos estables e inestables con marcadores de tipo diferente.\n",
    "\n",
    "(iii) Describe en palabras qué ocurre en la bifurcación.\n",
    "\n",
    "Para hacerlo, escribe funciones que acepten la $f$ y lleven a cabo el análisis correspondiente y dibujen las figuras.\n",
    "\n",
    "Las ecuaciones por investigar son:\n",
    "\n",
    "- $\\dot{x} = \\mu + x^2$\n",
    "\n",
    "- $\\dot{x} = \\mu x - x^2$\n",
    "\n",
    "- $\\dot{x} = \\mu*x - x^3$\n",
    "\n",
    "- $\\dot{x} = \\mu*x + x^3 - x^5$\n"
   ]
  },
  {
   "cell_type": "markdown",
   "metadata": {},
   "source": [
    "**[4]** Después de llevar a cabo este notebook, lee el capítulo 3 del Strogatz y reproduce alguno de los análisis de los sistemas físicos / biológicos."
   ]
  },
  {
   "cell_type": "markdown",
   "metadata": {},
   "source": [
    "**[5]** ¡Dibuja la figura 3.7.6 del Strogatz!"
   ]
  },
  {
   "cell_type": "markdown",
   "metadata": {},
   "source": [
    "[6] Haz un resumen de lo que hayamos aprendido en este notebook."
   ]
  }
 ],
 "metadata": {
  "kernelspec": {
   "display_name": "Julia 0.6.2",
   "language": "julia",
   "name": "julia-0.6"
  },
  "language_info": {
   "file_extension": ".jl",
   "mimetype": "application/julia",
   "name": "julia",
   "version": "0.6.2"
  }
 },
 "nbformat": 4,
 "nbformat_minor": 2
}
