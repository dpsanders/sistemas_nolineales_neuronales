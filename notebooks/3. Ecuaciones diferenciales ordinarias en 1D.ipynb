{
 "cells": [
  {
   "cell_type": "markdown",
   "metadata": {},
   "source": [
    "# Ecuaciones diferenciales en una variable"
   ]
  },
  {
   "cell_type": "markdown",
   "metadata": {},
   "source": [
    "Recordemos que una ecuación diferencial general con una variable (\"en una dimensión\") se ve así:\n",
    "\n",
    "$$ \\dot{x} = f(x, t), $$\n",
    "\n",
    "o sea\n",
    "\n",
    "$$ \\dot{x}(t) = f(x(t), t) \\qquad \\text{para toda $t$}.$$\n",
    "\n",
    "La primera ecuación describe la igualdad de dos *funciones*, y la segunda de *dos números*."
   ]
  },
  {
   "cell_type": "markdown",
   "metadata": {},
   "source": [
    "En este curso, usaremos el paquete `DifferentialEquations.jl` para resolver ecuaciones diferenciales ordinarias:\n",
    "\n",
    "    Pkg.add(\"DifferentialEquations\")\n",
    "    \n",
    "Luego\n",
    "\n",
    "    Pkg.status(\"DifferentialEquations\")\n",
    "    \n",
    "debería indicar que estás utilizando la versión 4.0 o más alto. Esto es importante, ya que cambió la sintaxis del paquete en la versión 4.0"
   ]
  },
  {
   "cell_type": "markdown",
   "metadata": {},
   "source": [
    "**[1]** (i) Revisar la documentación del paquete.\n",
    "\n",
    "(ii) Utilízalo para integrar la ecuación logística, que modela la dinámica de crecimiento de una población en tiempo continuo:\n",
    "\n",
    "$$\\dot{x} = x \\, (1-x)$$\n",
    "\n",
    "Dibuja soluciones para distintas condiciones iniciales como función del tiempo, así como el campo vectorial correspondiente [con la función `quiver` de `Plots.jl`]. \n",
    "\n",
    "(iii) Encuentra visual- / gráficamente los **puntos fijos** y su estabilidad."
   ]
  },
  {
   "cell_type": "markdown",
   "metadata": {},
   "source": [
    "**[2]** (i) ¿Qué ecuación satisface un punto fijo $x^*$ de una ecuación diferencial ordinaria en una variable que no dependa explícitamente del tiempo, es decir $\\dot{x} = f(x)$?\n",
    "\n",
    "(ii) Haz un análisis de estabilidad lineal: perturba $x^*$ con un $\\delta x_0$ y averigua cómo crece $\\delta x(t)$ como función del tiempo. ¿De qué depende?\n",
    "\n",
    "(iii) ¿Cómo puedes encontrar numéricamente los puntos fijos y su estabilidad?"
   ]
  },
  {
   "cell_type": "markdown",
   "metadata": {},
   "source": [
    "## Ecuaciones con parámetros "
   ]
  },
  {
   "cell_type": "markdown",
   "metadata": {},
   "source": [
    "El interés en estos sistemas surge cuando hay parámetros:\n",
    "\n",
    "$$\\dot{x} = f_\\mu(x),$$\n",
    "\n",
    "ya que entonces pueden surgir bifurcaciones."
   ]
  },
  {
   "cell_type": "code",
   "execution_count": null,
   "metadata": {},
   "outputs": [],
   "source": [
    "**[3]** "
   ]
  }
 ],
 "metadata": {
  "kernelspec": {
   "display_name": "Julia 0.6.2",
   "language": "julia",
   "name": "julia-0.6"
  },
  "language_info": {
   "file_extension": ".jl",
   "mimetype": "application/julia",
   "name": "julia",
   "version": "0.6.2"
  }
 },
 "nbformat": 4,
 "nbformat_minor": 2
}
