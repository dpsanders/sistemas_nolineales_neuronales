{
 "cells": [
  {
   "cell_type": "markdown",
   "metadata": {},
   "source": [
    "# Sistemas dinámicos discretos"
   ]
  },
  {
   "cell_type": "markdown",
   "metadata": {},
   "source": [
    "Para empezar nuestro estudio de los sistemas dinámicos, empecemos con los sistemas dinámicos a tiempo **discreto**, ya que se pueden percibir algunos fenómenos con menor cantidad de tecnicismos.\n",
    "\n",
    "Recordemos siempre que *cada parte del código pertenece en su propia función*, y que *una función hace una sola tarea*. Los ejercicios se llevan a cabo en Julia, y las gráficas con el paquete `Plots.jl`:\n",
    "\n",
    "```\n",
    "using Plots\n",
    "gr()  # usar el backend GR\n",
    "# plotlyjs()  # alternativa: backend PlotlyJS\n",
    "```"
   ]
  },
  {
   "cell_type": "markdown",
   "metadata": {},
   "source": [
    "## Sistemas dinámicos discretos"
   ]
  },
  {
   "cell_type": "markdown",
   "metadata": {},
   "source": [
    "Un **sistema dinámico discreto** consiste en iterar un mapeo $f$; es decir, una secuencia de valores $x_n$ en tiempos discretos $n = 0, 1, 2, \\ldots$, definido por\n",
    "\n",
    "$$x_{n+1} = f_\\mu(x_n).$$\n",
    "\n",
    "Así que empezamos en $x_0$, y luego tenemos\n",
    "$$x_1 = f_\\mu(x_0)$$\n",
    "$$x_2 = f_\\mu(x_1)$$\n",
    "\n",
    "etc.\n",
    "\n",
    "Aquí, $\\mu$ es un parámetro que está *fijo* en cada corrida del sistema, y $f_\\mu$ es una función $\\mathbb{R} \\to \\mathbb{R}$ en el caso más sencillo."
   ]
  },
  {
   "cell_type": "markdown",
   "metadata": {},
   "source": [
    "En este notebook trabajaremos con el mapeo iterado más famoso, el **mapeo logístico**:\n",
    "\n",
    "$$f_\\mu(x) := \\mu \\, x \\, (1 - x)$$\n",
    "\n",
    "sobre el intervalo $[0, 1]$. Esto se puede ver como un modelo de la dinámica de una población de animales que reproducen una vez por temporada, con crecimiento exponencial y limitantes de recursos. Ref: [Robert May, Nature, 1976](http://abel.harvard.edu/archive/118r_spring_05/docs/may.pdf)."
   ]
  },
  {
   "cell_type": "markdown",
   "metadata": {},
   "source": [
    "**[1]** (i) Define una función `iterar` que itera un mapeo `f` por un tiempo `N` desde una condición inicial `x0`, y regresa la secuencia de iterados.\n",
    "\n",
    "(ii) Define el mapeo logístico con argumentos $\\mu$ y $x$.\n",
    "\n",
    "(iii) Itera el mapeo y dibuja el comportamiento de $x_n$ como función del tiempo $n$ para distintos valores de $\\mu$ entre $1$ y $3.5$ usando un `@manipulate`. ¿Qué ocurre?\n",
    "[Pista: Para pasar una función univariada a `iterar`, puedes utilizar una función anónima:\n",
    "\n",
    "    x -> logistico(μ, x)\n",
    "    \n",
    "]"
   ]
  },
  {
   "cell_type": "code",
   "execution_count": null,
   "metadata": {},
   "outputs": [],
   "source": [
    "function iterar()\n",
    "end"
   ]
  },
  {
   "cell_type": "code",
   "execution_count": null,
   "metadata": {},
   "outputs": [],
   "source": []
  },
  {
   "cell_type": "markdown",
   "metadata": {},
   "source": [
    "### Puntos fijos"
   ]
  },
  {
   "cell_type": "markdown",
   "metadata": {},
   "source": [
    "**[2]** En la pregunta [1], se encontró un comportamiento *asintótico* (es decir, en el límite $t \\to \\infty$) de tipo *punto fijo*, es decir un valor $x^*$ que no cambia en el tiempo.\n",
    "\n",
    "(i) Escribe una ecuación para un punto fijo $x^*$.\n",
    "\n",
    "(ii) Resuelve esta ecuación de forma analítica para el mapeo logístico. ¿Cuántos puntos fijos hay? ¿Puedes ver todos en la simulación?"
   ]
  },
  {
   "cell_type": "markdown",
   "metadata": {},
   "source": [
    "### Estabilidad"
   ]
  },
  {
   "cell_type": "markdown",
   "metadata": {},
   "source": [
    "**[3]** Cuando encontramos cierto tipo de comportamiento, siempre debemos verificar si dicho comportamiento es *estable*, es decir si persistirá bajo perturbaciones.\n",
    "\n",
    "Considera una condición inicial perturbada $x_0 = x^* + \\delta_0$, con $\\delta_0 \\ll 1$. La dinámica resultante se mantendrá cerca del punto fijo, al menos por un tiempo, por lo cual podemos escribir \n",
    "$$x_n = x^* + \\delta_n.$$\n",
    "\n",
    "(i) Encuentra una ecuación para la dinámica de las $\\delta_n$, despreciando términos $O(\\delta^2)$. \n",
    "\n",
    "(ii) ¿Qué tipo de comportamiento tiene: crecen las $\\delta_n$ en el tiempo (punto fijo inestable) o no (punto fijo estable)? ¿Cuándo ocurren?\n",
    "\n",
    "(iii) En la respuesta al inciso (i) interviene algo relacionado con la función $f$. Dibuja esto como función de $\\mu$ y encuentra el valor $\\mu^*$ en el cual el/los punto(s) fijo(s) cambien de estabilidad. Esto es un ejemplo de una *bifurcación* (cambio de comportamiento cualitativo cuando se cambia un parámetro).\n",
    "\n",
    "(iv) Dibuja los iterados antes y después del cambio de estabilidad (es decir, al menos dos gráficas, para las dinámicas con dos valores distintos de $\\mu$. ¿Qué ocurre? "
   ]
  },
  {
   "cell_type": "markdown",
   "metadata": {},
   "source": [
    "### Telarañas "
   ]
  },
  {
   "cell_type": "markdown",
   "metadata": {},
   "source": [
    "**[4]** Para tener una idea más intuitiva de lo que está pasando, dibujamos un *diagrama de telaraña* (\"cobweb diagram\") de una función $f$, como sigue. Es un diagrama que muestra la órbita entera en el tiempo.\n",
    "\n",
    "(i) Haz una función que dibuja un diagrama cobweb. Dibuja la gráfica de $f$ y la recta $y=x$. Dada una condición inicial inicial $x_0$, empieza en $(x_0, 0)$ y dibuja una línea vertical hasta tocar la gráfica de $f$. Luego dibujar una línea horizontal hasta tocar la recta $y=x$; el valor de $x$ correspondiente será, entonces, $x_1$. Ahora dibuja una línea vertical hasta tocar la gráfica de $f$, y así sucesivamente.\n",
    "\n",
    "(ii) Investiga los diagramas telaraña para el mapeo logístico para distintos valores de $\\mu$."
   ]
  }
 ],
 "metadata": {
  "kernelspec": {
   "display_name": "Julia 0.6.2",
   "language": "julia",
   "name": "julia-0.6"
  },
  "language_info": {
   "file_extension": ".jl",
   "mimetype": "application/julia",
   "name": "julia",
   "version": "0.6.2"
  }
 },
 "nbformat": 4,
 "nbformat_minor": 2
}
