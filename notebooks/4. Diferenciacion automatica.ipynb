{
 "cells": [
  {
   "cell_type": "markdown",
   "metadata": {},
   "source": [
    "# Diferenciación automática"
   ]
  },
  {
   "cell_type": "markdown",
   "metadata": {},
   "source": [
    "Hasta ahora, en el método de Newton hemos tenido que meter \"a mano\" la derivada. Sabemos que hay forma de calcular derivadads numéricamente, por ejemplo con diferencias finitas.\n",
    "\n",
    "Pero de hecho hay una técnica muy bonita para calcular derivadas de forma *exacta*, que se llama la **diferenciación automática** o **diferenciación algorítmica**. En este notebook, veremos las bases de este método."
   ]
  },
  {
   "cell_type": "markdown",
   "metadata": {},
   "source": [
    "Este método no utiliza diferencias finitas, ni tampoco manipulación simbólica. Calcula el valor numérico de una derivada en un punto $a$ que también tiene un valor *numérico*. Es decir, debemos especificar en una variable `a = 3`, por ejemplo, el valor numérico del punto en el que queramos evaluar la derivada, y el método nos regresará el valor numérico de la derivada en dicho punto."
   ]
  },
  {
   "cell_type": "markdown",
   "metadata": {},
   "source": [
    "**[1]** Supón que tienes dos funciones $f$ y $g$ de $\\mathbb{R} \\to \\mathbb{R}$, cuyas derivadas conoces, y quieres calcular derivadas en un punto $a \\in \\mathbb{R}$ de combinaciones de estas funciones.\n",
    "\n",
    "(i) Expande $f$ y $g$ en series de Taylor alrededor de $a$ en términos de la distancia $\\epsilon$ desde $a$.\n",
    "\n",
    "(ii) Encuentra series de Taylor para la suma $(f+g)$ y el producto $(f \\cdot g)$ en la vecindad de $a$.\n",
    "\n",
    "(iii) Así, encuentra las expresiones conocidas para $(f+g)'(a)$ y $(f \\cdot g)'(a)$,\n",
    "en términos de los valores de las funciones y sus derivadas. Concluye cuál información necesitas de cada función para poder calcular derivadas en el punto $a$ de las combinaciones de las funciones."
   ]
  },
  {
   "cell_type": "markdown",
   "metadata": {},
   "source": [
    "**[2]** Ahora podemos hacer de esto un método numérico para calcular derivadas, como sigue."
   ]
  },
  {
   "cell_type": "markdown",
   "metadata": {},
   "source": [
    "(i) Define un tipo nuevo `Dual` que contiene la información necesaria de una función en el punto $a$. (Dejamos implícito el punto $a$; no lo representamos de forma explícita.) \n",
    "\n",
    "La sintaxis de Julia para definir un tipo nuevo es\n",
    "    \n",
    "    struct Dual\n",
    "        a::Float64\n",
    "    end \n",
    "    \n",
    "Adentro del `struct`, pones la lista de los nombres de las variables que quieres guardar adentro, junto con sus tipos.\n",
    "\n",
    "(ii) Verifica que ahora puedes crear objetos de este tipo llamando a una función con el mismo nombre que el tipo; una función así se llama un **constructor**. Para acceder a las variables adentro de cada objeto, usamos la sintaxis `a.b`, donde `a` es el nombre del objeto, y `b` de la variable adentro.\n",
    "\n",
    "(iii) Define las operaciones aritméticas básicas sobre objetos de este tipo, al *sobrecargar* los operadores con la siguiente sintaxis:\n",
    "\n",
    "    import Base: +, *  # y cualquier otra operación que sobrecargues\n",
    "    \n",
    "    +(x::Dual, y::Dual) = ...\n",
    "    \n",
    "    +(x::Dual, y::Real) = ...   # para sumar un número real a un dual\n",
    "    \n",
    "[En Julia, los operadores como `+` son simplemente funciones, y podemos definir nuevos **métodos** (versiones) para ellos.]\n",
    "    \n",
    "Estas operaciones deben reflejar las reglas que desarrollaste arriba.    \n",
    "\n",
    "(iv) ¿Cuál número `Dual` corresponde con la función identidad $\\mathbb{1}: x \\mapsto x$ en el punto $a$?\n",
    "\n",
    "(v) Verifica que si agarras un objeto `xx` de la forma encontrada en (iii) y lo enchufas en una función específica `f(x)` de Julia, arroja el valor de la función y de la derivada.\n",
    "\n",
    "(vi) Así, escribe una función que calcule de forma automática la derivada de una función en un punto dado."
   ]
  },
  {
   "cell_type": "markdown",
   "metadata": {},
   "source": [
    "**[3]** (i) Si tienes una función como `exp`, cuando la aplicas a un número `Dual` que representa a una función $f$ cerca del punto $a$, el resultado debe contener el valor de la función $\\exp$ evaluada sobre $f(a)$, así como la derivada de $(\\exp \\circ f)$. Impleméntalo.\n",
    "\n",
    "(ii) ¿Qué ocurre si derivas `exp(exp(x))` en un punto $a$? ¿Es correcto?"
   ]
  },
  {
   "cell_type": "markdown",
   "metadata": {},
   "source": [
    "**[4]** Utiliza lo anterior para escribir el método de Newton para funciones $\\mathbb{R} \\to \\mathbb{R}$, calculando de forma automática la derivada."
   ]
  },
  {
   "cell_type": "markdown",
   "metadata": {},
   "source": [
    "**[5]** (i) Para una función $f: \\mathbb{R}^n \\to \\mathbb{R}$, quisiéramos calcular la gradiente $\\nabla f$. ¿Cómo podemos extender la diferenciación automática a este caso? Puedes restringir atención a $n=2$ para entender cómo funciona."
   ]
  },
  {
   "cell_type": "markdown",
   "metadata": {},
   "source": [
    "**[6]** Ahora que hayamos entendido la idea de la diferenciación automática, podemos echar mano del paquete de Julia `ForwardDiff.jl`, donde hay una implementación muy buena.\n",
    "\n",
    "Lee el manual del paquete para entender cómo calcular derivadas de funciones $\\mathbb{R} \\to \\mathbb{R}$, gradientes de funciones $\\mathbb{R}^n \\to \\mathbb{R}$, y jacobianos de funciones $\\mathbb{R}^n \\to $\\mathbb{R}^m$."
   ]
  }
 ],
 "metadata": {
  "kernelspec": {
   "display_name": "Julia 0.6.2",
   "language": "julia",
   "name": "julia-0.6"
  },
  "language_info": {
   "file_extension": ".jl",
   "mimetype": "application/julia",
   "name": "julia",
   "version": "0.6.2"
  }
 },
 "nbformat": 4,
 "nbformat_minor": 2
}
