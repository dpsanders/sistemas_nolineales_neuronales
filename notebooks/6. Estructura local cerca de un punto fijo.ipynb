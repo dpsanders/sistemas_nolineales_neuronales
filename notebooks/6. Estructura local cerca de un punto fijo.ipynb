{
 "cells": [
  {
   "cell_type": "markdown",
   "metadata": {},
   "source": [
    "# Espacios invariantes para ecuaciones lineales "
   ]
  },
  {
   "cell_type": "markdown",
   "metadata": {
    "collapsed": true
   },
   "source": [
    "Consideremos de nuevo la ecuación lineal\n",
    "\n",
    "$$\\dot{\\mathbf{x}} = \\mathsf{A} \\cdot \\mathbf{x}$$\n",
    "\n",
    "Como hemos visto, los eigenvectores de $\\mathsf{A}$ juegan un papel importante."
   ]
  },
  {
   "cell_type": "markdown",
   "metadata": {},
   "source": [
    "**[1]** (i) Dibuja el espacio fase del sistema $$\\dot{\\mathbf{x}} = \\mathsf{A} \\cdot \\mathbf{x}$$ con \n",
    "$$A = \\begin{pmatrix} 1 & 1 \\\\ 4 & -2 \\end{pmatrix}. $$\n",
    "\n",
    "(ii) Agrega el punto fijo.\n",
    "\n",
    "(iii) Calcula los eigenvectores y eigenvalores de $\\mathsf{A}$. \n",
    "\n",
    "(iv) Dibuja los eigenvectores encima de la gráfica del inciso (i). ¿Qué observas? ¿Qué concluyes?"
   ]
  },
  {
   "cell_type": "markdown",
   "metadata": {},
   "source": [
    "Lo que acabas de calcular son los **espacios invariantes** del sistema dinámico descrito por la ecuación diferencial:\n",
    "\n",
    "- el **espacio estable** consiste en el span de los eigenvectores cuyos eigenvalores corresponden a las \"direcciones estables\", es decir aquellas con parte real negativa;\n",
    "\n",
    "- el **espacio estable**, correspondiente a la parte real positiva."
   ]
  },
  {
   "cell_type": "markdown",
   "metadata": {},
   "source": [
    "**[2]** (i) Considera una trayectoria que empieza encima del espacio estable. ¿Qué ocurre? Hazlo numéricamente.\n",
    "\n",
    "(ii) Haz lo mismo para el espacio inestable."
   ]
  },
  {
   "cell_type": "markdown",
   "metadata": {},
   "source": [
    "## Sistemas nolineales"
   ]
  },
  {
   "cell_type": "markdown",
   "metadata": {},
   "source": [
    "Ahora consideremos el caso general, un sistema nolineal\n",
    "\n",
    "$$\\dot{\\mathbf{x}} = \\mathbf{f}(\\mathbf{x}).$$\n",
    "\n",
    "Si sabemos que tiene un punto fijo $\\mathbf{x}^*$, podemos hacer el análisis de estabilidad lineal ahí, que hasta ahora nos ha servido para encontrar si es un punto fijo estable o inestable. \n",
    "\n",
    "Sin embargo, va más allá que eso: sea $\\mathsf{J} := D\\mathbf{f}(\\mathbf{x}^*)$ la matrix jacobiana en el punto fijo. Entonces la ecuación\n",
    "\n",
    "$$\\dot{\\mathbf{x}} = \\mathsf{J} \\cdot \\mathbf{x}$$\n",
    "\n",
    "se llama el **sistema linealizado** en el punto fijo.\n"
   ]
  },
  {
   "cell_type": "markdown",
   "metadata": {},
   "source": [
    "**[3]** Considera de nuevo la ecuación\n",
    "\n",
    "\\begin{align}\n",
    "\\dot{x} &= x + \\exp(-y)\\\\\n",
    "\\dot{y} &= -y\n",
    "\\end{align}\n",
    "\n",
    "(i) Dibuja el espacio fase del sistema nolineal, incluyendo el punto fijo.\n",
    "\n",
    "(ii) Encuentra el sistema linealizado en el punto fijo, y dibuja su espacio fase encima, cerca del punto fijo.\n",
    "\n",
    "(iii) Dibuja los espacios invariantes del sistema linealizado encima. ¿Qué observas?"
   ]
  },
  {
   "cell_type": "markdown",
   "metadata": {},
   "source": [
    "## El teorema de Hartman&ndash;Grobman"
   ]
  },
  {
   "cell_type": "markdown",
   "metadata": {},
   "source": [
    "Debes haber observado en el inciso [2] que el comportamiento de los sistemas nolineal y linealizado se parecen cerca del punto fijo.\n",
    "\n",
    "La idea es que cerca del punto fijo, el sistema nolineal se puede desarrollar:\n",
    "\n",
    "$$\\dot{\\mathbf{x}} = [D\\mathbf{f}(\\mathbf{x}^*)] \\cdot \\mathbf{x} + O(\\mathbf{\\delta x}^2),$$\n",
    "\n",
    "donde los términos nolineales son chiquitos.\n",
    "Por lo tanto, uno podría esperar que las dinámicas de los sistemas nolineales y linealizados fueran parecidas cerca del punto fijo, ya que ahí la diferencia en la dinámica es pequeña.\n",
    "\n",
    "\n",
    "El teorema de Hartman&ndash;Grobman hace riguroso esta idea.\n",
    "\n",
    "La\n",
    "\n",
    "Primero, definimos un **punto fijo hiperbólico** $\\mathbf{x}^*$ como un punto fijo tal que ningún eigenvalor de la matriz jacobiano en ese punto se encuentre en el eje imaginario.\n",
    "\n",
    "El teorema dice:\n",
    "> Si $\\mathbf{x}^*$ es un punto fijo hiperbólico de la ecuación $\\dot{\\mathbf{x}} = \\mathbf{f}(\\mathbf{x})$, entonces cerca del punto fijo, el flujo de la ecuación nolineal \"se parece\" al flujo de la ecuación lineal.\n",
    "\n",
    "Aquí, \"se parece\" quiere decir que existe un homeomorfismo (función continua e invertible) que lleva órbitas del sistema lineal a órbitas del sistema nolineal.\n",
    "\n",
    "Nótese que en general esto ** *no* es cierto cuando el punto fijo es no-hiperbólico **."
   ]
  },
  {
   "cell_type": "markdown",
   "metadata": {},
   "source": [
    "## Variedades invariantes"
   ]
  },
  {
   "cell_type": "markdown",
   "metadata": {},
   "source": [
    "Dado el teorema de Hartman&ndash;Grobman, debe existir un análogo en el sistema nolineal de los espacios estable e inestable del sistema lineal. Estas curvas deben obtenerse al mapear las trayectorias correspondientes a estos espacios invariantes bajo el homeomorfismo.\n",
    "\n",
    "Estas curvas (o variedades, en general) son entonces \"versiones curveadas\" de los espacios invariantes."
   ]
  },
  {
   "cell_type": "markdown",
   "metadata": {},
   "source": [
    "**[4]** \n",
    "\n",
    "(i) ¿Cómo se pueden definir las variedades invariantes en términos de su comportamiento asintótico?\n",
    "\n",
    "(ii) Muy cerca del punto fijo, las variedades invariantes son casi idénticas a los espacios invariantes. \n",
    "\n",
    "Utiliza esta idea para calcular las variedades invariantes de la ecuación del inciso **[3]**. \n",
    "\n",
    "(iii) Dibuja las variedades invariantes y los espacios invariantes. ¿Qué observas?\n",
    "\n",
    "(iv) Dibuja el espacio fase completo del sistema nolineal."
   ]
  }
 ],
 "metadata": {
  "kernelspec": {
   "display_name": "Julia 0.6.2",
   "language": "julia",
   "name": "julia-0.6"
  },
  "language_info": {
   "file_extension": ".jl",
   "mimetype": "application/julia",
   "name": "julia",
   "version": "0.6.2"
  }
 },
 "nbformat": 4,
 "nbformat_minor": 2
}
